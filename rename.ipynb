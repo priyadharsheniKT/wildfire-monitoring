{
 "cells": [
  {
   "cell_type": "code",
   "execution_count": 1,
   "id": "6624581d-a518-47c0-9b21-1160d9a5890f",
   "metadata": {},
   "outputs": [],
   "source": [
    "import os\n",
    "os.environ['KMP_DUPLICATE_LIB_OK']='True'\n",
    "\n",
    "import numpy as np\n",
    "import re\n",
    "import torchvision.transforms.functional as TF\n",
    "from torchvision import transforms\n",
    "from torch.utils.data import Dataset\n",
    "from PIL import Image\n",
    "import random\n",
    "import torch\n",
    "\n",
    "\n",
    "#rename the image, make the paired images have the same name in the two folder\n",
    "\n",
    "path = os.getcwd()+'/254p RGB Images/'\n",
    "files = os.listdir(path)\n",
    "for i, file in enumerate(files):\n",
    "    OldFileName = os.path.join(path, file)\n",
    "    ID =  re.findall(r\"\\d+\",OldFileName[-10:])[0]\n",
    "    # print(ID)\n",
    "    NewFileName = os.path.join(path, str(ID)+'.jpg')\n",
    "    os.rename(OldFileName, NewFileName)\n",
    "\n",
    "\n",
    "path = os.getcwd()+'/254p Thermal Images/'\n",
    "files = os.listdir(path)\n",
    "for i, file in enumerate(files):\n",
    "    OldFileName = os.path.join(path, file)\n",
    "    ID =  re.findall(r\"\\d+\",OldFileName[-10:])[0]\n",
    "    # print(ID)\n",
    "    NewFileName = os.path.join(path, str(ID)+'.jpg')\n",
    "    os.rename(OldFileName, NewFileName)"
   ]
  },
  {
   "cell_type": "code",
   "execution_count": null,
   "id": "02625491-a012-4d8f-af33-98e40e0c04ea",
   "metadata": {},
   "outputs": [],
   "source": []
  }
 ],
 "metadata": {
  "kernelspec": {
   "display_name": "Python 3 (ipykernel)",
   "language": "python",
   "name": "python3"
  },
  "language_info": {
   "codemirror_mode": {
    "name": "ipython",
    "version": 3
   },
   "file_extension": ".py",
   "mimetype": "text/x-python",
   "name": "python",
   "nbconvert_exporter": "python",
   "pygments_lexer": "ipython3",
   "version": "3.11.7"
  }
 },
 "nbformat": 4,
 "nbformat_minor": 5
}
